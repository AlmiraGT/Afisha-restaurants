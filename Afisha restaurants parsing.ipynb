{
 "cells": [
  {
   "cell_type": "code",
   "execution_count": 1,
   "id": "6c2f192e",
   "metadata": {},
   "outputs": [],
   "source": [
    "import requests\n",
    "from bs4 import BeautifulSoup\n",
    "from selenium import webdriver\n",
    "import pandas as pd\n",
    "import time\n",
    "from tqdm import tqdm\n",
    "import re"
   ]
  },
  {
   "cell_type": "code",
   "execution_count": 2,
   "id": "75f40981",
   "metadata": {},
   "outputs": [],
   "source": [
    "url = 'https://www.afisha.ru/msk/restaurants/'"
   ]
  },
  {
   "cell_type": "code",
   "execution_count": 3,
   "id": "6dbf1b5e",
   "metadata": {},
   "outputs": [],
   "source": [
    "wd = webdriver.Chrome()\n",
    "wd.get(url)"
   ]
  },
  {
   "cell_type": "code",
   "execution_count": 4,
   "id": "d1236ff4",
   "metadata": {},
   "outputs": [],
   "source": [
    "html = wd.page_source\n",
    "soup = BeautifulSoup(html, 'lxml')"
   ]
  },
  {
   "cell_type": "code",
   "execution_count": 5,
   "id": "f3b472ce",
   "metadata": {},
   "outputs": [],
   "source": [
    "categorie_link = {}"
   ]
  },
  {
   "cell_type": "code",
   "execution_count": 6,
   "id": "a3aca96a",
   "metadata": {},
   "outputs": [],
   "source": [
    "categories = soup.find_all('li', {'class': 'rest-tags_item'})\n",
    "\n",
    "for categorie in categories:\n",
    "    cat = categorie.get_text()\n",
    "    href = 'https://www.afisha.ru' + categorie.find('a')['href']\n",
    "    categorie_link[cat.strip()] = href.strip()"
   ]
  },
  {
   "cell_type": "code",
   "execution_count": 7,
   "id": "cd385ac8",
   "metadata": {},
   "outputs": [
    {
     "data": {
      "text/plain": [
       "{'Лучшее в Москве': 'https://www.afisha.ru/msk/restaurants/restaurant_list/thebest/',\n",
       " 'Места рядом': 'https://www.afisha.ru/msk/restaurants/search_map/',\n",
       " 'Все рестораны': 'https://www.afisha.ru/msk/restaurants/restaurant_list/',\n",
       " 'Коворкинг': 'https://www.afisha.ru/msk/restaurants/restaurant_list/coworking/',\n",
       " 'Рестораны на крыше': 'https://www.afisha.ru/msk/restaurants/restaurant_list/roofrestaurants/',\n",
       " 'Бары': 'https://www.afisha.ru/msk/restaurants/restaurant_list/bars/',\n",
       " 'Итальянская кухня': 'https://www.afisha.ru/msk/restaurants/restaurant_list/italian_kitchen/',\n",
       " 'Китайская кухня': 'https://www.afisha.ru/msk/restaurants/restaurant_list/chinese_cuisine/',\n",
       " 'Грузинская кухня': 'https://www.afisha.ru/msk/restaurants/restaurant_list/georgian_cuisine/',\n",
       " 'Индийская кухня': 'https://www.afisha.ru/msk/restaurants/restaurant_list/indian_cuisine/',\n",
       " 'Кафе': 'https://www.afisha.ru/msk/restaurants/restaurant_list/cafes/',\n",
       " 'Рыбные рестораны': 'https://www.afisha.ru/msk/restaurants/restaurant_list/fish_restaurants/',\n",
       " 'Пивные рестораны': 'https://www.afisha.ru/msk/restaurants/restaurant_list/beer_restaurants/',\n",
       " 'Русская кухня': 'https://www.afisha.ru/msk/restaurants/restaurant_list/russian_cuisine/',\n",
       " 'Армянская кухня': 'https://www.afisha.ru/msk/restaurants/restaurant_list/armenian_cuisine/',\n",
       " 'Вегетарианское меню': 'https://www.afisha.ru/msk/restaurants/restaurant_list/veggy_menu/',\n",
       " 'Корейская кухня': 'https://www.afisha.ru/msk/restaurants/restaurant_list/korean_cuisine/',\n",
       " 'Пабы': 'https://www.afisha.ru/msk/restaurants/restaurant_list/pubs/',\n",
       " 'Мексиканская кухня': 'https://www.afisha.ru/msk/restaurants/restaurant_list/texmex_cuisine/',\n",
       " 'Японская кухня': 'https://www.afisha.ru/msk/restaurants/restaurant_list/japanese_cuisine/',\n",
       " 'Кондитерские': 'https://www.afisha.ru/msk/restaurants/restaurant_list/confectionery/',\n",
       " 'Кофейни': 'https://www.afisha.ru/msk/restaurants/restaurant_list/coffee_houses/',\n",
       " 'Французская кухня': 'https://www.afisha.ru/msk/restaurants/restaurant_list/french_cuisine/',\n",
       " 'Вьетнамская кухня': 'https://www.afisha.ru/msk/restaurants/restaurant_list/vietnamese_cuisine/',\n",
       " 'Боулы': 'https://www.afisha.ru/msk/restaurants/restaurant_list/bowl/',\n",
       " 'Хинкали': 'https://www.afisha.ru/msk/restaurants/restaurant_list/hinkali/'}"
      ]
     },
     "execution_count": 7,
     "metadata": {},
     "output_type": "execute_result"
    }
   ],
   "source": [
    "categorie_link"
   ]
  },
  {
   "cell_type": "code",
   "execution_count": 8,
   "id": "02786c29",
   "metadata": {},
   "outputs": [
    {
     "data": {
      "text/plain": [
       "{'Лучшее в Москве': 'https://www.afisha.ru/msk/restaurants/restaurant_list/thebest/',\n",
       " 'Рестораны на крыше': 'https://www.afisha.ru/msk/restaurants/restaurant_list/roofrestaurants/',\n",
       " 'Бары': 'https://www.afisha.ru/msk/restaurants/restaurant_list/bars/',\n",
       " 'Итальянская кухня': 'https://www.afisha.ru/msk/restaurants/restaurant_list/italian_kitchen/',\n",
       " 'Китайская кухня': 'https://www.afisha.ru/msk/restaurants/restaurant_list/chinese_cuisine/',\n",
       " 'Грузинская кухня': 'https://www.afisha.ru/msk/restaurants/restaurant_list/georgian_cuisine/',\n",
       " 'Индийская кухня': 'https://www.afisha.ru/msk/restaurants/restaurant_list/indian_cuisine/',\n",
       " 'Рыбные рестораны': 'https://www.afisha.ru/msk/restaurants/restaurant_list/fish_restaurants/',\n",
       " 'Пивные рестораны': 'https://www.afisha.ru/msk/restaurants/restaurant_list/beer_restaurants/',\n",
       " 'Русская кухня': 'https://www.afisha.ru/msk/restaurants/restaurant_list/russian_cuisine/',\n",
       " 'Армянская кухня': 'https://www.afisha.ru/msk/restaurants/restaurant_list/armenian_cuisine/',\n",
       " 'Вегетарианское меню': 'https://www.afisha.ru/msk/restaurants/restaurant_list/veggy_menu/',\n",
       " 'Корейская кухня': 'https://www.afisha.ru/msk/restaurants/restaurant_list/korean_cuisine/',\n",
       " 'Пабы': 'https://www.afisha.ru/msk/restaurants/restaurant_list/pubs/',\n",
       " 'Мексиканская кухня': 'https://www.afisha.ru/msk/restaurants/restaurant_list/texmex_cuisine/',\n",
       " 'Японская кухня': 'https://www.afisha.ru/msk/restaurants/restaurant_list/japanese_cuisine/',\n",
       " 'Кондитерские': 'https://www.afisha.ru/msk/restaurants/restaurant_list/confectionery/',\n",
       " 'Кофейни': 'https://www.afisha.ru/msk/restaurants/restaurant_list/coffee_houses/',\n",
       " 'Французская кухня': 'https://www.afisha.ru/msk/restaurants/restaurant_list/french_cuisine/',\n",
       " 'Вьетнамская кухня': 'https://www.afisha.ru/msk/restaurants/restaurant_list/vietnamese_cuisine/',\n",
       " 'Хинкали': 'https://www.afisha.ru/msk/restaurants/restaurant_list/hinkali/'}"
      ]
     },
     "execution_count": 8,
     "metadata": {},
     "output_type": "execute_result"
    }
   ],
   "source": [
    "categorie_link.pop('Места рядом')\n",
    "categorie_link.pop('Все рестораны')\n",
    "categorie_link.pop('Коворкинг')\n",
    "categorie_link.pop('Боулы')\n",
    "categorie_link.pop('Кафе')\n",
    "categorie_link"
   ]
  },
  {
   "cell_type": "code",
   "execution_count": 9,
   "id": "4fe3b4b4",
   "metadata": {},
   "outputs": [],
   "source": [
    "# for cat, href in categorie_link.items():\n",
    "#     try:\n",
    "#         print('-' * 50)\n",
    "#         wd.get(href)\n",
    "#         print(cat)\n",
    "#         print(wd.find_element_by_class_name('results_text').text)\n",
    "#         time.sleep(3)\n",
    "#     except:\n",
    "#         continue"
   ]
  },
  {
   "cell_type": "code",
   "execution_count": 10,
   "id": "a2f9bcab",
   "metadata": {},
   "outputs": [
    {
     "data": {
      "text/plain": [
       "'Рыбные рестораны'"
      ]
     },
     "execution_count": 10,
     "metadata": {},
     "output_type": "execute_result"
    }
   ],
   "source": [
    "types = 'Рыба моя (Рыбные рестораны)'\n",
    "reg = re.search(r'\\(.*\\)', types)\n",
    "types = reg.group(0).replace('(', '').replace(')', '').strip()\n",
    "types"
   ]
  },
  {
   "cell_type": "code",
   "execution_count": 11,
   "id": "aaf7a029",
   "metadata": {},
   "outputs": [],
   "source": [
    "restaurants = []"
   ]
  },
  {
   "cell_type": "code",
   "execution_count": 12,
   "id": "bc9e990f",
   "metadata": {},
   "outputs": [
    {
     "name": "stderr",
     "output_type": "stream",
     "text": [
      "\r",
      "Categories:   0%|                                                                               | 0/21 [00:00<?, ?it/s]"
     ]
    },
    {
     "name": "stdout",
     "output_type": "stream",
     "text": [
      "------------------------------\n",
      "Лучшее в Москве\n"
     ]
    },
    {
     "name": "stderr",
     "output_type": "stream",
     "text": [
      "\n",
      "Each place: 100%|████████████████████████████████████████████████████████████████████| 20/20 [00:00<00:00, 1661.80it/s]\u001b[A\n",
      "Categories:   5%|███▍                                                                   | 1/21 [00:03<01:19,  3.97s/it]"
     ]
    },
    {
     "name": "stdout",
     "output_type": "stream",
     "text": [
      "Page: 0 End of page\n",
      "20\n",
      "------------------------------\n",
      "Рестораны на крыше\n",
      "Page: 0 Page: 1 Page: 2 Page: 3 Page: 4 "
     ]
    },
    {
     "name": "stderr",
     "output_type": "stream",
     "text": [
      "\n",
      "Each place:   0%|                                                                              | 0/121 [00:00<?, ?it/s]\u001b[A"
     ]
    },
    {
     "name": "stdout",
     "output_type": "stream",
     "text": [
      "Page: 5 End of page\n",
      "121\n"
     ]
    },
    {
     "name": "stderr",
     "output_type": "stream",
     "text": [
      "Each place: 100%|██████████████████████████████████████████████████████████████████| 121/121 [00:00<00:00, 2720.01it/s]\n",
      "Categories:  10%|██████▊                                                                | 2/21 [00:21<03:43, 11.78s/it]"
     ]
    },
    {
     "name": "stdout",
     "output_type": "stream",
     "text": [
      "------------------------------\n",
      "Бары\n",
      "Page: 0 Page: 1 Page: 2 Page: 3 Page: 4 Page: 5 Page: 6 Page: 7 Page: 8 Page: 9 Page: 10 Page: 11 Page: 12 Page: 13 Page: 14 Page: 15 Page: 16 Page: 17 Page: 18 Page: 19 Page: 20 Page: 21 Page: 22 Page: 23 Page: 24 Page: 25 Page: 26 Page: 27 Page: 28 Page: 29 Page: 30 Page: 31 Page: 32 Page: 33 Page: 34 Page: 35 Page: 36 Page: 37 Page: 38 Page: 39 Page: 40 Page: 41 Page: 42 Page: 43 Page: 44 Page: 45 Page: 46 Page: 47 Page: 48 Page: 49 Page: 50 Page: 51 Page: 52 Page: 53 Page: 54 Page: 55 Page: 56 Page: 57 Page: 58 Page: 59 Page: 60 Page: 61 Page: 62 Page: 63 Page: 64 Page: 65 Page: 66 Page: 67 Page: 68 Page: 69 Page: 70 Page: 71 Page: 72 Page: 73 Page: 74 Page: 75 Page: 76 Page: 77 Page: 78 Page: 79 Page: 80 Page: 81 Page: 82 End of page\n"
     ]
    },
    {
     "name": "stderr",
     "output_type": "stream",
     "text": [
      "\n",
      "Each place:   0%|                                                                             | 0/1982 [00:00<?, ?it/s]\u001b[A\n",
      "Each place:  14%|█████████▏                                                       | 280/1982 [00:00<00:00, 2677.10it/s]\u001b[A"
     ]
    },
    {
     "name": "stdout",
     "output_type": "stream",
     "text": [
      "1982\n"
     ]
    },
    {
     "name": "stderr",
     "output_type": "stream",
     "text": [
      "\n",
      "Each place:  29%|██████████████████▋                                              | 569/1982 [00:00<00:00, 2777.72it/s]\u001b[A\n",
      "Each place:  43%|████████████████████████████▏                                    | 858/1982 [00:00<00:00, 2800.58it/s]\u001b[A\n",
      "Each place:  58%|█████████████████████████████████████                           | 1149/1982 [00:00<00:00, 2808.34it/s]\u001b[A\n",
      "Each place:  72%|██████████████████████████████████████████████▎                 | 1433/1982 [00:00<00:00, 2817.51it/s]\u001b[A\n",
      "Each place: 100%|████████████████████████████████████████████████████████████████| 1982/1982 [00:00<00:00, 2800.02it/s]\u001b[A\n",
      "Categories:  14%|██████████                                                            | 3/21 [05:46<46:27, 154.88s/it]"
     ]
    },
    {
     "name": "stdout",
     "output_type": "stream",
     "text": [
      "------------------------------\n",
      "Итальянская кухня\n",
      "Page: 0 Page: 1 Page: 2 Page: 3 Page: 4 Page: 5 Page: 6 Page: 7 Page: 8 Page: 9 Page: 10 Page: 11 Page: 12 Page: 13 Page: 14 Page: 15 Page: 16 Page: 17 Page: 18 Page: 19 Page: 20 Page: 21 Page: 22 Page: 23 Page: 24 Page: 25 Page: 26 Page: 27 Page: 28 Page: 29 Page: 30 Page: 31 Page: 32 Page: 33 Page: 34 Page: 35 Page: 36 Page: 37 Page: 38 Page: 39 Page: 40 Page: 41 Page: 42 Page: 43 Page: 44 Page: 45 Page: 46 Page: 47 Page: 48 Page: 49 Page: 50 Page: 51 Page: 52 Page: 53 Page: 54 Page: 55 Page: 56 Page: 57 Page: 58 Page: 59 Page: 60 Page: 61 Page: 62 Page: 63 Page: 64 Page: 65 Page: 66 Page: 67 Page: 68 Page: 69 Page: 70 Page: 71 Page: 72 Page: 73 Page: 74 Page: 75 Page: 76 Page: 77 Page: 78 Page: 79 Page: 80 Page: 81 Page: 82 Page: 83 Page: 84 Page: 85 Page: 86 Page: 87 Page: 88 Page: 89 Page: 90 Page: 91 Page: 92 Page: 93 Page: 94 Page: 95 Page: 96 Page: 97 Page: 98 Page: 99 Page: 100 Page: 101 Page: 102 Page: 103 Page: 104 Page: 105 End of page\n"
     ]
    },
    {
     "name": "stderr",
     "output_type": "stream",
     "text": [
      "\n",
      "Each place:   0%|                                                                             | 0/2480 [00:00<?, ?it/s]\u001b[A\n",
      "Each place:   7%|████▋                                                            | 181/2480 [00:00<00:01, 1797.08it/s]\u001b[A"
     ]
    },
    {
     "name": "stdout",
     "output_type": "stream",
     "text": [
      "2480\n"
     ]
    },
    {
     "name": "stderr",
     "output_type": "stream",
     "text": [
      "\n",
      "Each place:  15%|█████████▍                                                       | 361/2480 [00:00<00:01, 1783.46it/s]\u001b[A\n",
      "Each place:  23%|███████████████                                                  | 574/2480 [00:00<00:01, 1824.10it/s]\u001b[A\n",
      "Each place:  32%|████████████████████▋                                            | 789/2480 [00:00<00:00, 1839.07it/s]\u001b[A\n",
      "Each place:  40%|█████████████████████████▉                                       | 989/2480 [00:00<00:00, 1887.56it/s]\u001b[A\n",
      "Each place:  48%|██████████████████████████████▌                                 | 1186/2480 [00:00<00:00, 1906.31it/s]\u001b[A\n",
      "Each place:  56%|███████████████████████████████████▌                            | 1377/2480 [00:00<00:00, 1890.51it/s]\u001b[A\n",
      "Each place:  64%|█████████████████████████████████████████                       | 1593/2480 [00:00<00:00, 1893.58it/s]\u001b[A\n",
      "Each place:  72%|██████████████████████████████████████████████▎                 | 1793/2480 [00:00<00:00, 1922.06it/s]\u001b[A\n",
      "Each place:  82%|████████████████████████████████████████████████████▍           | 2031/2480 [00:01<00:00, 1977.89it/s]\u001b[A\n",
      "Each place:  91%|█████████████████████████████████████████████████████████▉      | 2245/2480 [00:01<00:00, 2020.74it/s]\u001b[A\n",
      "Each place: 100%|████████████████████████████████████████████████████████████████| 2480/2480 [00:01<00:00, 1908.31it/s]\u001b[A\n",
      "Categories:  19%|████████████▉                                                       | 4/21 [14:19<1:23:59, 296.45s/it]"
     ]
    },
    {
     "name": "stdout",
     "output_type": "stream",
     "text": [
      "------------------------------\n",
      "Китайская кухня\n",
      "Page: 0 Page: 1 Page: 2 Page: 3 Page: 4 Page: 5 Page: 6 Page: 7 Page: 8 Page: 9 Page: 10 End of page\n"
     ]
    },
    {
     "name": "stderr",
     "output_type": "stream",
     "text": [
      "\n",
      "Each place: 100%|██████████████████████████████████████████████████████████████████| 257/257 [00:00<00:00, 2988.34it/s]\u001b[A\n",
      "Categories:  24%|████████████████▋                                                     | 5/21 [14:55<53:59, 202.47s/it]"
     ]
    },
    {
     "name": "stdout",
     "output_type": "stream",
     "text": [
      "257\n",
      "------------------------------\n",
      "Грузинская кухня\n",
      "Page: 0 Page: 1 Page: 2 Page: 3 Page: 4 Page: 5 Page: 6 Page: 7 Page: 8 Page: 9 Page: 10 Page: 11 Page: 12 Page: 13 Page: 14 Page: 15 Page: 16 Page: 17 Page: 18 Page: 19 Page: 20 Page: 21 Page: 22 Page: 23 Page: 24 Page: 25 Page: 26 Page: 27 Page: 28 Page: 29 Page: 30 Page: 31 Page: 32 Page: 33 Page: 34 Page: 35 Page: 36 Page: 37 Page: 38 Page: 39 End of page\n"
     ]
    },
    {
     "name": "stderr",
     "output_type": "stream",
     "text": [
      "\n",
      "Each place:   0%|                                                                              | 0/949 [00:00<?, ?it/s]\u001b[A\n",
      "Each place:  29%|███████████████████▎                                              | 277/949 [00:00<00:00, 2636.96it/s]\u001b[A"
     ]
    },
    {
     "name": "stdout",
     "output_type": "stream",
     "text": [
      "949\n"
     ]
    },
    {
     "name": "stderr",
     "output_type": "stream",
     "text": [
      "\n",
      "Each place:  61%|████████████████████████████████████████▍                         | 581/949 [00:00<00:00, 2646.69it/s]\u001b[A\n",
      "Each place: 100%|██████████████████████████████████████████████████████████████████| 949/949 [00:00<00:00, 2568.81it/s]\u001b[A\n",
      "Categories:  29%|████████████████████                                                  | 6/21 [17:03<44:15, 177.03s/it]"
     ]
    },
    {
     "name": "stdout",
     "output_type": "stream",
     "text": [
      "------------------------------\n",
      "Индийская кухня\n",
      "Page: 0 Page: 1 "
     ]
    },
    {
     "name": "stderr",
     "output_type": "stream",
     "text": [
      "\n",
      "Each place: 100%|████████████████████████████████████████████████████████████████████| 53/53 [00:00<00:00, 2650.22it/s]\u001b[A\n",
      "Categories:  33%|███████████████████████▎                                              | 7/21 [17:13<28:32, 122.32s/it]"
     ]
    },
    {
     "name": "stdout",
     "output_type": "stream",
     "text": [
      "Page: 2 End of page\n",
      "53\n",
      "------------------------------\n",
      "Рыбные рестораны\n",
      "Page: 0 Page: 1 Page: 2 Page: 3 Page: 4 Page: 5 Page: 6 Page: 7 Page: 8 End of page\n"
     ]
    },
    {
     "name": "stderr",
     "output_type": "stream",
     "text": [
      "\n",
      "Each place: 100%|██████████████████████████████████████████████████████████████████| 202/202 [00:00<00:00, 2711.26it/s]\u001b[A\n",
      "Categories:  38%|███████████████████████████                                            | 8/21 [17:39<19:53, 91.82s/it]"
     ]
    },
    {
     "name": "stdout",
     "output_type": "stream",
     "text": [
      "202\n",
      "------------------------------\n",
      "Пивные рестораны\n",
      "Page: 0 Page: 1 Page: 2 Page: 3 Page: 4 Page: 5 Page: 6 Page: 7 Page: 8 Page: 9 Page: 10 Page: 11 Page: 12 Page: 13 Page: 14 End of page\n"
     ]
    },
    {
     "name": "stderr",
     "output_type": "stream",
     "text": [
      "\n",
      "Each place:   0%|                                                                              | 0/355 [00:00<?, ?it/s]\u001b[A\n",
      "Each place: 100%|██████████████████████████████████████████████████████████████████| 355/355 [00:00<00:00, 2771.67it/s]\u001b[A\n",
      "Categories:  43%|██████████████████████████████▍                                        | 9/21 [18:24<15:27, 77.30s/it]"
     ]
    },
    {
     "name": "stdout",
     "output_type": "stream",
     "text": [
      "355\n",
      "------------------------------\n",
      "Русская кухня\n",
      "Page: 0 Page: 1 Page: 2 Page: 3 Page: 4 Page: 5 Page: 6 Page: 7 Page: 8 Page: 9 Page: 10 Page: 11 Page: 12 Page: 13 Page: 14 Page: 15 Page: 16 Page: 17 Page: 18 Page: 19 Page: 20 Page: 21 Page: 22 Page: 23 Page: 24 Page: 25 Page: 26 Page: 27 Page: 28 Page: 29 Page: 30 Page: 31 Page: 32 Page: 33 Page: 34 Page: 35 Page: 36 Page: 37 Page: 38 Page: 39 Page: 40 Page: 41 Page: 42 Page: 43 Page: 44 Page: 45 Page: 46 Page: 47 Page: 48 Page: 49 Page: 50 Page: 51 Page: 52 Page: 53 Page: 54 Page: 55 Page: 56 Page: 57 Page: 58 Page: 59 Page: 60 Page: 61 Page: 62 Page: 63 Page: 64 Page: 65 Page: 66 Page: 67 Page: 68 Page: 69 Page: 70 Page: 71 Page: 72 Page: 73 Page: 74 Page: 75 Page: 76 Page: 77 Page: 78 Page: 79 Page: 80 Page: 81 Page: 82 Page: 83 Page: 84 Page: 85 Page: 86 Page: 87 Page: 88 Page: 89 Page: 90 Page: 91 Page: 92 Page: 93 Page: 94 Page: 95 Page: 96 Page: 97 Page: 98 End of page\n"
     ]
    },
    {
     "name": "stderr",
     "output_type": "stream",
     "text": [
      "\n",
      "Each place:   0%|                                                                             | 0/2370 [00:00<?, ?it/s]\u001b[A\n",
      "Each place:  11%|███████▏                                                         | 264/2370 [00:00<00:00, 2454.24it/s]\u001b[A"
     ]
    },
    {
     "name": "stdout",
     "output_type": "stream",
     "text": [
      "2370\n"
     ]
    },
    {
     "name": "stderr",
     "output_type": "stream",
     "text": [
      "\n",
      "Each place:  24%|███████████████▍                                                 | 565/2370 [00:00<00:00, 2565.73it/s]\u001b[A\n",
      "Each place:  35%|██████████████████████▋                                          | 828/2370 [00:00<00:00, 2573.13it/s]\u001b[A\n",
      "Each place:  46%|█████████████████████████████▎                                  | 1086/2370 [00:00<00:00, 2550.10it/s]\u001b[A\n",
      "Each place:  57%|████████████████████████████████████▏                           | 1341/2370 [00:00<00:00, 2405.86it/s]\u001b[A\n",
      "Each place:  67%|███████████████████████████████████████████▏                    | 1598/2370 [00:00<00:00, 2419.53it/s]\u001b[A\n",
      "Each place:  78%|█████████████████████████████████████████████████▋              | 1841/2370 [00:00<00:00, 2409.52it/s]\u001b[A\n",
      "Each place:  88%|████████████████████████████████████████████████████████▏       | 2083/2370 [00:00<00:00, 2336.70it/s]\u001b[A\n",
      "Each place: 100%|████████████████████████████████████████████████████████████████| 2370/2370 [00:00<00:00, 2423.18it/s]\u001b[A\n",
      "Categories:  48%|████████████████████████████████▊                                    | 10/21 [26:02<35:40, 194.58s/it]"
     ]
    },
    {
     "name": "stdout",
     "output_type": "stream",
     "text": [
      "------------------------------\n",
      "Армянская кухня\n",
      "Page: 0 Page: 1 "
     ]
    },
    {
     "name": "stderr",
     "output_type": "stream",
     "text": [
      "\n",
      "Each place: 100%|████████████████████████████████████████████████████████████████████| 68/68 [00:00<00:00, 2551.01it/s]\u001b[A\n",
      "Categories:  52%|████████████████████████████████████▏                                | 11/21 [26:13<23:04, 138.49s/it]"
     ]
    },
    {
     "name": "stdout",
     "output_type": "stream",
     "text": [
      "Page: 2 End of page\n",
      "68\n",
      "------------------------------\n",
      "Вегетарианское меню\n",
      "Page: 0 Page: 1 Page: 2 Page: 3 Page: 4 Page: 5 Page: 6 Page: 7 Page: 8 Page: 9 Page: 10 Page: 11 Page: 12 Page: 13 Page: 14 Page: 15 Page: 16 Page: 17 Page: 18 Page: 19 Page: 20 Page: 21 Page: 22 Page: 23 Page: 24 Page: 25 Page: 26 Page: 27 Page: 28 Page: 29 Page: 30 Page: 31 Page: 32 Page: 33 Page: 34 Page: 35 Page: 36 Page: 37 Page: 38 Page: 39 Page: 40 Page: 41 Page: 42 Page: 43 Page: 44 Page: 45 Page: 46 Page: 47 Page: 48 Page: 49 Page: 50 Page: 51 Page: 52 Page: 53 Page: 54 Page: 55 Page: 56 Page: 57 Page: 58 Page: 59 Page: 60 Page: 61 Page: 62 Page: 63 Page: 64 Page: 65 Page: 66 Page: 67 Page: 68 Page: 69 Page: 70 Page: 71 Page: 72 Page: 73 Page: 74 Page: 75 Page: 76 Page: 77 Page: 78 Page: 79 Page: 80 Page: 81 Page: 82 Page: 83 Page: 84 Page: 85 Page: 86 Page: 87 Page: 88 Page: 89 Page: 90 Page: 91 Page: 92 Page: 93 Page: 94 Page: 95 Page: 96 Page: 97 Page: 98 Page: 99 Page: 100 Page: 101 Page: 102 Page: 103 Page: 104 End of page\n"
     ]
    },
    {
     "name": "stderr",
     "output_type": "stream",
     "text": [
      "\n",
      "Each place:   0%|                                                                             | 0/2520 [00:00<?, ?it/s]\u001b[A\n",
      "Each place:  11%|███████                                                          | 274/2520 [00:00<00:00, 2436.30it/s]\u001b[A"
     ]
    },
    {
     "name": "stdout",
     "output_type": "stream",
     "text": [
      "2520\n"
     ]
    },
    {
     "name": "stderr",
     "output_type": "stream",
     "text": [
      "\n",
      "Each place:  21%|█████████████▉                                                   | 538/2520 [00:00<00:00, 2523.31it/s]\u001b[A\n",
      "Each place:  32%|████████████████████▊                                            | 808/2520 [00:00<00:00, 2593.97it/s]\u001b[A\n",
      "Each place:  44%|████████████████████████████                                    | 1103/2520 [00:00<00:00, 2635.81it/s]\u001b[A\n",
      "Each place:  55%|███████████████████████████████████▏                            | 1385/2520 [00:00<00:00, 2627.72it/s]\u001b[A\n",
      "Each place:  66%|██████████████████████████████████████████                      | 1656/2520 [00:00<00:00, 2631.29it/s]\u001b[A\n",
      "Each place:  78%|█████████████████████████████████████████████████▉              | 1965/2520 [00:00<00:00, 2647.40it/s]\u001b[A\n",
      "Each place:  88%|████████████████████████████████████████████████████████▋       | 2230/2520 [00:00<00:00, 2644.71it/s]\u001b[A\n",
      "Each place: 100%|████████████████████████████████████████████████████████████████| 2520/2520 [00:00<00:00, 2616.59it/s]\u001b[A\n",
      "Categories:  57%|███████████████████████████████████████▍                             | 12/21 [34:39<37:32, 250.25s/it]"
     ]
    },
    {
     "name": "stdout",
     "output_type": "stream",
     "text": [
      "------------------------------\n",
      "Корейская кухня\n",
      "Page: 0 Page: 1 Page: 2 "
     ]
    },
    {
     "name": "stderr",
     "output_type": "stream",
     "text": [
      "\n",
      "Each place: 100%|████████████████████████████████████████████████████████████████████| 70/70 [00:00<00:00, 2690.16it/s]\u001b[A\n",
      "Categories:  62%|██████████████████████████████████████████▋                          | 13/21 [34:53<23:50, 178.77s/it]"
     ]
    },
    {
     "name": "stdout",
     "output_type": "stream",
     "text": [
      "Page: 3 End of page\n",
      "70\n",
      "------------------------------\n",
      "Пабы\n",
      "Page: 0 Page: 1 Page: 2 Page: 3 Page: 4 Page: 5 Page: 6 Page: 7 Page: 8 End of page\n"
     ]
    },
    {
     "name": "stderr",
     "output_type": "stream",
     "text": [
      "\n",
      "Each place: 100%|██████████████████████████████████████████████████████████████████| 197/197 [00:00<00:00, 2643.51it/s]\u001b[A\n",
      "Categories:  67%|██████████████████████████████████████████████                       | 14/21 [35:20<15:30, 132.87s/it]"
     ]
    },
    {
     "name": "stdout",
     "output_type": "stream",
     "text": [
      "197\n",
      "------------------------------\n",
      "Мексиканская кухня\n",
      "Page: 0 Page: 1 Page: 2 Page: 3 Page: 4 End of page\n",
      "101\n"
     ]
    },
    {
     "name": "stderr",
     "output_type": "stream",
     "text": [
      "\n",
      "Each place: 100%|██████████████████████████████████████████████████████████████████| 101/101 [00:00<00:00, 2005.25it/s]\u001b[A\n",
      "Categories:  71%|██████████████████████████████████████████████████                    | 15/21 [35:34<09:43, 97.19s/it]"
     ]
    },
    {
     "name": "stdout",
     "output_type": "stream",
     "text": [
      "------------------------------\n",
      "Японская кухня\n",
      "Page: 0 Page: 1 Page: 2 Page: 3 Page: 4 Page: 5 Page: 6 Page: 7 Page: 8 Page: 9 Page: 10 Page: 11 Page: 12 Page: 13 Page: 14 Page: 15 Page: 16 Page: 17 Page: 18 Page: 19 Page: 20 Page: 21 Page: 22 Page: 23 Page: 24 Page: 25 Page: 26 Page: 27 Page: 28 Page: 29 Page: 30 Page: 31 Page: 32 Page: 33 Page: 34 Page: 35 Page: 36 Page: 37 Page: 38 Page: 39 Page: 40 Page: 41 Page: 42 Page: 43 Page: 44 Page: 45 Page: 46 Page: 47 Page: 48 Page: 49 Page: 50 Page: 51 Page: 52 Page: 53 Page: 54 Page: 55 Page: 56 Page: 57 Page: 58 Page: 59 Page: 60 Page: 61 Page: 62 Page: 63 Page: 64 Page: 65 Page: 66 Page: 67 Page: 68 Page: 69 Page: 70 Page: 71 Page: 72 Page: 73 Page: 74 Page: 75 Page: 76 Page: 77 Page: 78 Page: 79 Page: 80 Page: 81 Page: 82 End of page\n"
     ]
    },
    {
     "name": "stderr",
     "output_type": "stream",
     "text": [
      "\n",
      "Each place:   0%|                                                                             | 0/1981 [00:00<?, ?it/s]\u001b[A\n",
      "Each place:   9%|█████▌                                                           | 169/1981 [00:00<00:01, 1533.53it/s]\u001b[A"
     ]
    },
    {
     "name": "stdout",
     "output_type": "stream",
     "text": [
      "1981\n"
     ]
    },
    {
     "name": "stderr",
     "output_type": "stream",
     "text": [
      "\n",
      "Each place:  19%|████████████▏                                                    | 371/1981 [00:00<00:00, 1767.90it/s]\u001b[A\n",
      "Each place:  32%|████████████████████▌                                            | 626/1981 [00:00<00:00, 1985.74it/s]\u001b[A\n",
      "Each place:  43%|████████████████████████████▏                                    | 858/1981 [00:00<00:00, 2103.51it/s]\u001b[A\n",
      "Each place:  54%|██████████████████████████████████▌                             | 1069/1981 [00:00<00:00, 2059.95it/s]\u001b[A\n",
      "Each place:  65%|█████████████████████████████████████████▌                      | 1287/1981 [00:00<00:00, 2094.82it/s]\u001b[A\n",
      "Each place:  77%|█████████████████████████████████████████████████▎              | 1525/1981 [00:00<00:00, 2183.93it/s]\u001b[A\n",
      "Each place:  88%|████████████████████████████████████████████████████████▌       | 1751/1981 [00:00<00:00, 2205.07it/s]\u001b[A\n",
      "Each place: 100%|████████████████████████████████████████████████████████████████| 1981/1981 [00:00<00:00, 2057.12it/s]\u001b[A\n",
      "Categories:  76%|████████████████████████████████████████████████████▌                | 16/21 [41:13<14:09, 169.90s/it]"
     ]
    },
    {
     "name": "stdout",
     "output_type": "stream",
     "text": [
      "------------------------------\n",
      "Кондитерские\n",
      "Page: 0 Page: 1 Page: 2 Page: 3 Page: 4 Page: 5 Page: 6 Page: 7 Page: 8 Page: 9 Page: 10 Page: 11 Page: 12 Page: 13 Page: 14 Page: 15 Page: 16 Page: 17 Page: 18 Page: 19 Page: 20 Page: 21 Page: 22 Page: 23 Page: 24 Page: 25 Page: 26 Page: 27 Page: 28 Page: 29 Page: 30 Page: 31 Page: 32 Page: 33 Page: 34 Page: 35 Page: 36 Page: 37 Page: 38 Page: 39 Page: 40 Page: 41 Page: 42 Page: 43 Page: 44 Page: 45 Page: 46 Page: 47 Page: 48 Page: 49 Page: 50 Page: 51 Page: 52 Page: 53 Page: 54 Page: 55 Page: 56 Page: 57 Page: 58 Page: 59 Page: 60 Page: 61 Page: 62 Page: 63 Page: 64 Page: 65 Page: 66 Page: 67 Page: 68 Page: 69 Page: 70 End of page\n"
     ]
    },
    {
     "name": "stderr",
     "output_type": "stream",
     "text": [
      "\n",
      "Each place:   0%|                                                                             | 0/1695 [00:00<?, ?it/s]\u001b[A\n",
      "Each place:  18%|███████████▍                                                     | 297/1695 [00:00<00:00, 2572.40it/s]\u001b[A"
     ]
    },
    {
     "name": "stdout",
     "output_type": "stream",
     "text": [
      "1695\n"
     ]
    },
    {
     "name": "stderr",
     "output_type": "stream",
     "text": [
      "\n",
      "Each place:  35%|██████████████████████▊                                          | 594/1695 [00:00<00:00, 2715.83it/s]\u001b[A\n",
      "Each place:  51%|█████████████████████████████████▎                               | 868/1695 [00:00<00:00, 2641.12it/s]\u001b[A\n",
      "Each place:  67%|██████████████████████████████████████████▊                     | 1133/1695 [00:00<00:00, 2502.88it/s]\u001b[A\n",
      "Each place:  82%|████████████████████████████████████████████████████▎           | 1387/1695 [00:00<00:00, 2407.43it/s]\u001b[A\n",
      "Each place: 100%|████████████████████████████████████████████████████████████████| 1695/1695 [00:00<00:00, 2413.19it/s]\u001b[A\n",
      "Categories:  81%|███████████████████████████████████████████████████████▊             | 17/21 [45:25<12:58, 194.51s/it]"
     ]
    },
    {
     "name": "stdout",
     "output_type": "stream",
     "text": [
      "------------------------------\n",
      "Кофейни\n",
      "Page: 0 Page: 1 Page: 2 Page: 3 Page: 4 Page: 5 Page: 6 Page: 7 Page: 8 Page: 9 Page: 10 Page: 11 Page: 12 Page: 13 Page: 14 Page: 15 Page: 16 Page: 17 Page: 18 Page: 19 Page: 20 Page: 21 Page: 22 Page: 23 Page: 24 Page: 25 Page: 26 Page: 27 Page: 28 Page: 29 Page: 30 Page: 31 Page: 32 Page: 33 Page: 34 Page: 35 Page: 36 Page: 37 Page: 38 Page: 39 Page: 40 Page: 41 Page: 42 Page: 43 Page: 44 Page: 45 Page: 46 Page: 47 Page: 48 Page: 49 Page: 50 Page: 51 Page: 52 Page: 53 Page: 54 Page: 55 Page: 56 Page: 57 Page: 58 Page: 59 Page: 60 Page: 61 Page: 62 Page: 63 Page: 64 Page: 65 Page: 66 Page: 67 Page: 68 Page: 69 Page: 70 Page: 71 Page: 72 Page: 73 Page: 74 Page: 75 Page: 76 Page: 77 Page: 78 Page: 79 Page: 80 Page: 81 Page: 82 Page: 83 Page: 84 Page: 85 Page: 86 Page: 87 Page: 88 Page: 89 Page: 90 Page: 91 Page: 92 Page: 93 Page: 94 Page: 95 Page: 96 Page: 97 Page: 98 Page: 99 End of page\n"
     ]
    },
    {
     "name": "stderr",
     "output_type": "stream",
     "text": [
      "\n",
      "Each place:   0%|                                                                             | 0/2381 [00:00<?, ?it/s]\u001b[A\n",
      "Each place:  11%|██████▉                                                          | 252/2381 [00:00<00:00, 2508.11it/s]\u001b[A\n"
     ]
    },
    {
     "name": "stdout",
     "output_type": "stream",
     "text": [
      "2381\n"
     ]
    },
    {
     "name": "stderr",
     "output_type": "stream",
     "text": [
      "Each place:  21%|█████████████▉                                                   | 509/2381 [00:00<00:00, 2531.91it/s]\u001b[A\n",
      "Each place:  32%|████████████████████▊                                            | 763/2381 [00:00<00:00, 2533.52it/s]\u001b[A\n",
      "Each place:  43%|███████████████████████████▎                                    | 1017/2381 [00:00<00:00, 2511.95it/s]\u001b[A\n",
      "Each place:  53%|██████████████████████████████████                              | 1269/2381 [00:00<00:00, 2501.17it/s]\u001b[A\n",
      "Each place:  64%|████████████████████████████████████████▉                       | 1521/2381 [00:00<00:00, 2500.34it/s]\u001b[A\n",
      "Each place:  75%|████████████████████████████████████████████████▏               | 1794/2381 [00:00<00:00, 2497.93it/s]\u001b[A\n",
      "Each place:  87%|███████████████████████████████████████████████████████▋        | 2072/2381 [00:00<00:00, 2485.64it/s]\u001b[A\n",
      "Each place: 100%|████████████████████████████████████████████████████████████████| 2381/2381 [00:00<00:00, 2467.09it/s]\u001b[A\n",
      "Categories:  86%|███████████████████████████████████████████████████████████▏         | 18/21 [52:05<12:48, 256.29s/it]"
     ]
    },
    {
     "name": "stdout",
     "output_type": "stream",
     "text": [
      "------------------------------\n",
      "Французская кухня\n",
      "Page: 0 Page: 1 Page: 2 Page: 3 "
     ]
    },
    {
     "name": "stderr",
     "output_type": "stream",
     "text": [
      "\n",
      "Each place:   0%|                                                                              | 0/100 [00:00<?, ?it/s]\u001b[A"
     ]
    },
    {
     "name": "stdout",
     "output_type": "stream",
     "text": [
      "Page: 4 End of page\n",
      "100\n"
     ]
    },
    {
     "name": "stderr",
     "output_type": "stream",
     "text": [
      "Each place: 100%|██████████████████████████████████████████████████████████████████| 100/100 [00:00<00:00, 2620.11it/s]\n",
      "Categories:  90%|██████████████████████████████████████████████████████████████▍      | 19/21 [52:22<06:08, 184.32s/it]"
     ]
    },
    {
     "name": "stdout",
     "output_type": "stream",
     "text": [
      "------------------------------\n",
      "Вьетнамская кухня\n",
      "Page: 0 Page: 1 Page: 2 Page: 3 Page: 4 Page: 5 Page: 6 End of page\n"
     ]
    },
    {
     "name": "stderr",
     "output_type": "stream",
     "text": [
      "\n",
      "Each place: 100%|██████████████████████████████████████████████████████████████████| 163/163 [00:00<00:00, 2730.92it/s]\u001b[A\n",
      "Categories:  95%|█████████████████████████████████████████████████████████████████▋   | 20/21 [52:42<02:15, 135.20s/it]"
     ]
    },
    {
     "name": "stdout",
     "output_type": "stream",
     "text": [
      "163\n",
      "------------------------------\n",
      "Хинкали\n",
      "Page: 0 Page: 1 Page: 2 Page: 3 Page: 4 Page: 5 Page: 6 Page: 7 Page: 8 Page: 9 Page: 10 Page: 11 Page: 12 Page: 13 Page: 14 Page: 15 Page: 16 Page: 17 Page: 18 Page: 19 Page: 20 Page: 21 Page: 22 Page: 23 Page: 24 End of page\n"
     ]
    },
    {
     "name": "stderr",
     "output_type": "stream",
     "text": [
      "\n",
      "Each place:   0%|                                                                              | 0/581 [00:00<?, ?it/s]\u001b[A\n",
      "Each place:  46%|██████████████████████████████▍                                   | 268/581 [00:00<00:00, 2679.53it/s]\u001b[A\n"
     ]
    },
    {
     "name": "stdout",
     "output_type": "stream",
     "text": [
      "581\n"
     ]
    },
    {
     "name": "stderr",
     "output_type": "stream",
     "text": [
      "Each place: 100%|██████████████████████████████████████████████████████████████████| 581/581 [00:00<00:00, 2669.56it/s]\u001b[A\n",
      "Categories: 100%|█████████████████████████████████████████████████████████████████████| 21/21 [53:59<00:00, 154.27s/it]\n"
     ]
    }
   ],
   "source": [
    "for cat in tqdm(categorie_link.keys(), desc = 'Categories'):\n",
    "    print('-'*30)\n",
    "    print(cat)\n",
    "    wd.get(categorie_link[cat])\n",
    "    i = 0\n",
    "    while True:\n",
    "        print('Page:', i, end=' ')\n",
    "        try:\n",
    "            wd.find_element_by_class_name('j-show-more-button').click()\n",
    "            time.sleep(3)\n",
    "            i += 1\n",
    "        except:\n",
    "            break\n",
    "    \n",
    "    print('End of page')\n",
    "    html = wd.page_source\n",
    "    soup = BeautifulSoup(html, 'lxml')\n",
    "    \n",
    "    names = soup.find_all('div',  {'class': 'places_cards'})\n",
    "    print(len(names))\n",
    "    for name in tqdm(names, desc = 'Each place'):\n",
    "        try:\n",
    "            new_rest = []\n",
    "            place = name.find('span', {'class': 'places_name'})\n",
    "\n",
    "            types = name.find('div', {'class': 'places_title'})\n",
    "            types = types.get_text().replace('\\n', '').replace('  ', '')\n",
    "            reg = re.search(r'\\(.*\\)', types)\n",
    "            types = reg.group(0).replace('(', '').replace(')', '')\n",
    "\n",
    "            rating = name.find('div', {'class': 'rating_number'})\n",
    "            city = name.find('span', {'class': 'places_contact'})\n",
    "            address = name.find('span', {'class': 'places_address'})\n",
    "            metro = name.find('span', {'class': 'places_metro'})\n",
    "            new_rest = [place.get_text().strip(), types, rating.get_text().strip(), \\\n",
    "                        city.get_text().strip(), address.get_text().strip(), metro.get_text().strip()]\n",
    "            restaurants.append(new_rest)  \n",
    "\n",
    "        except:\n",
    "            continue"
   ]
  },
  {
   "cell_type": "code",
   "execution_count": 13,
   "id": "37efffb0",
   "metadata": {},
   "outputs": [
    {
     "data": {
      "text/plain": [
       "18635"
      ]
     },
     "execution_count": 13,
     "metadata": {},
     "output_type": "execute_result"
    }
   ],
   "source": [
    "len(restaurants)"
   ]
  },
  {
   "cell_type": "code",
   "execution_count": 14,
   "id": "482c73b0",
   "metadata": {},
   "outputs": [
    {
     "data": {
      "text/html": [
       "<div>\n",
       "<style scoped>\n",
       "    .dataframe tbody tr th:only-of-type {\n",
       "        vertical-align: middle;\n",
       "    }\n",
       "\n",
       "    .dataframe tbody tr th {\n",
       "        vertical-align: top;\n",
       "    }\n",
       "\n",
       "    .dataframe thead th {\n",
       "        text-align: right;\n",
       "    }\n",
       "</style>\n",
       "<table border=\"1\" class=\"dataframe\">\n",
       "  <thead>\n",
       "    <tr style=\"text-align: right;\">\n",
       "      <th></th>\n",
       "      <th>Place</th>\n",
       "      <th>Type</th>\n",
       "      <th>Rating</th>\n",
       "      <th>City</th>\n",
       "      <th>Address</th>\n",
       "      <th>Metro</th>\n",
       "    </tr>\n",
       "  </thead>\n",
       "  <tbody>\n",
       "    <tr>\n",
       "      <th>0</th>\n",
       "      <td>Рыба моя</td>\n",
       "      <td>Рыбные рестораны</td>\n",
       "      <td>9.4</td>\n",
       "      <td>Москва</td>\n",
       "      <td>Цветной б-р, 2</td>\n",
       "      <td>м. Цветной бульвар, Трубная</td>\n",
       "    </tr>\n",
       "    <tr>\n",
       "      <th>1</th>\n",
       "      <td>Китайская грамота</td>\n",
       "      <td>Китайская кухня</td>\n",
       "      <td>8.9</td>\n",
       "      <td>Москва</td>\n",
       "      <td>Сретенка, 1</td>\n",
       "      <td>м. Чистые пруды, Тургеневская, Сретенский бульвар</td>\n",
       "    </tr>\n",
       "    <tr>\n",
       "      <th>2</th>\n",
       "      <td>Björn</td>\n",
       "      <td>Скандинавская кухня</td>\n",
       "      <td>8.8</td>\n",
       "      <td>Москва</td>\n",
       "      <td>Пятницкая, 3/4, стр. 1</td>\n",
       "      <td>м. Новокузнецкая, Третьяковская</td>\n",
       "    </tr>\n",
       "    <tr>\n",
       "      <th>3</th>\n",
       "      <td>Dr. Живаго</td>\n",
       "      <td>Русская кухня</td>\n",
       "      <td>8.6</td>\n",
       "      <td>Москва</td>\n",
       "      <td>Моховая, 15, гостиница «Националь», 1 этаж</td>\n",
       "      <td>м. Охотный Ряд, Театральная, Площадь Революции</td>\n",
       "    </tr>\n",
       "    <tr>\n",
       "      <th>4</th>\n",
       "      <td>Северяне</td>\n",
       "      <td></td>\n",
       "      <td>8.5</td>\n",
       "      <td>Москва</td>\n",
       "      <td>Б.Никитская, 12</td>\n",
       "      <td>м. Арбатская</td>\n",
       "    </tr>\n",
       "    <tr>\n",
       "      <th>...</th>\n",
       "      <td>...</td>\n",
       "      <td>...</td>\n",
       "      <td>...</td>\n",
       "      <td>...</td>\n",
       "      <td>...</td>\n",
       "      <td>...</td>\n",
       "    </tr>\n",
       "    <tr>\n",
       "      <th>18630</th>\n",
       "      <td>Хинкальная</td>\n",
       "      <td>Хинкали</td>\n",
       "      <td></td>\n",
       "      <td>Клин</td>\n",
       "      <td>Чайковского, 87</td>\n",
       "      <td></td>\n",
       "    </tr>\n",
       "    <tr>\n",
       "      <th>18631</th>\n",
       "      <td>Хинкальная №1</td>\n",
       "      <td>Грузинская кухня</td>\n",
       "      <td></td>\n",
       "      <td>Коломна</td>\n",
       "      <td>Девичье Поле, 4а</td>\n",
       "      <td></td>\n",
       "    </tr>\n",
       "    <tr>\n",
       "      <th>18632</th>\n",
       "      <td>Хинкальная в Химках</td>\n",
       "      <td>Грузинская кухня</td>\n",
       "      <td></td>\n",
       "      <td>Химки</td>\n",
       "      <td>23-й км Ленинградского ш.</td>\n",
       "      <td></td>\n",
       "    </tr>\n",
       "    <tr>\n",
       "      <th>18633</th>\n",
       "      <td>Хинкаль-хаус</td>\n",
       "      <td>Хинкали</td>\n",
       "      <td></td>\n",
       "      <td>Реутов</td>\n",
       "      <td>Октября, 2б</td>\n",
       "      <td></td>\n",
       "    </tr>\n",
       "    <tr>\n",
       "      <th>18634</th>\n",
       "      <td>Швили</td>\n",
       "      <td>Грузинская кухня</td>\n",
       "      <td></td>\n",
       "      <td>Мытищи</td>\n",
       "      <td>Шараповский пр., 2, ТРЦ «Красный кит»</td>\n",
       "      <td></td>\n",
       "    </tr>\n",
       "  </tbody>\n",
       "</table>\n",
       "<p>18635 rows × 6 columns</p>\n",
       "</div>"
      ],
      "text/plain": [
       "                     Place                 Type Rating     City  \\\n",
       "0                 Рыба моя     Рыбные рестораны    9.4   Москва   \n",
       "1        Китайская грамота      Китайская кухня    8.9   Москва   \n",
       "2                    Björn  Скандинавская кухня    8.8   Москва   \n",
       "3               Dr. Живаго        Русская кухня    8.6   Москва   \n",
       "4                 Северяне                         8.5   Москва   \n",
       "...                    ...                  ...    ...      ...   \n",
       "18630           Хинкальная              Хинкали            Клин   \n",
       "18631        Хинкальная №1     Грузинская кухня         Коломна   \n",
       "18632  Хинкальная в Химках     Грузинская кухня           Химки   \n",
       "18633         Хинкаль-хаус              Хинкали          Реутов   \n",
       "18634                Швили     Грузинская кухня          Мытищи   \n",
       "\n",
       "                                          Address  \\\n",
       "0                                  Цветной б-р, 2   \n",
       "1                                     Сретенка, 1   \n",
       "2                          Пятницкая, 3/4, стр. 1   \n",
       "3      Моховая, 15, гостиница «Националь», 1 этаж   \n",
       "4                                 Б.Никитская, 12   \n",
       "...                                           ...   \n",
       "18630                             Чайковского, 87   \n",
       "18631                            Девичье Поле, 4а   \n",
       "18632                   23-й км Ленинградского ш.   \n",
       "18633                                 Октября, 2б   \n",
       "18634       Шараповский пр., 2, ТРЦ «Красный кит»   \n",
       "\n",
       "                                                   Metro  \n",
       "0                            м. Цветной бульвар, Трубная  \n",
       "1      м. Чистые пруды, Тургеневская, Сретенский бульвар  \n",
       "2                        м. Новокузнецкая, Третьяковская  \n",
       "3         м. Охотный Ряд, Театральная, Площадь Революции  \n",
       "4                                           м. Арбатская  \n",
       "...                                                  ...  \n",
       "18630                                                     \n",
       "18631                                                     \n",
       "18632                                                     \n",
       "18633                                                     \n",
       "18634                                                     \n",
       "\n",
       "[18635 rows x 6 columns]"
      ]
     },
     "execution_count": 14,
     "metadata": {},
     "output_type": "execute_result"
    }
   ],
   "source": [
    "df = pd.DataFrame(restaurants, columns = ['Place', 'Type', 'Rating', 'City', 'Address', 'Metro'])\n",
    "df"
   ]
  },
  {
   "cell_type": "code",
   "execution_count": 15,
   "id": "bc3e6bdd",
   "metadata": {},
   "outputs": [],
   "source": [
    "df_no_dupl = df.drop_duplicates()"
   ]
  },
  {
   "cell_type": "code",
   "execution_count": 16,
   "id": "e7f686c0",
   "metadata": {},
   "outputs": [
    {
     "data": {
      "text/html": [
       "<div>\n",
       "<style scoped>\n",
       "    .dataframe tbody tr th:only-of-type {\n",
       "        vertical-align: middle;\n",
       "    }\n",
       "\n",
       "    .dataframe tbody tr th {\n",
       "        vertical-align: top;\n",
       "    }\n",
       "\n",
       "    .dataframe thead th {\n",
       "        text-align: right;\n",
       "    }\n",
       "</style>\n",
       "<table border=\"1\" class=\"dataframe\">\n",
       "  <thead>\n",
       "    <tr style=\"text-align: right;\">\n",
       "      <th></th>\n",
       "      <th>Place</th>\n",
       "      <th>Type</th>\n",
       "      <th>Rating</th>\n",
       "      <th>City</th>\n",
       "      <th>Address</th>\n",
       "      <th>Metro</th>\n",
       "    </tr>\n",
       "  </thead>\n",
       "  <tbody>\n",
       "    <tr>\n",
       "      <th>0</th>\n",
       "      <td>Рыба моя</td>\n",
       "      <td>Рыбные рестораны</td>\n",
       "      <td>9.4</td>\n",
       "      <td>Москва</td>\n",
       "      <td>Цветной б-р, 2</td>\n",
       "      <td>м. Цветной бульвар, Трубная</td>\n",
       "    </tr>\n",
       "    <tr>\n",
       "      <th>1</th>\n",
       "      <td>Китайская грамота</td>\n",
       "      <td>Китайская кухня</td>\n",
       "      <td>8.9</td>\n",
       "      <td>Москва</td>\n",
       "      <td>Сретенка, 1</td>\n",
       "      <td>м. Чистые пруды, Тургеневская, Сретенский бульвар</td>\n",
       "    </tr>\n",
       "    <tr>\n",
       "      <th>2</th>\n",
       "      <td>Björn</td>\n",
       "      <td>Скандинавская кухня</td>\n",
       "      <td>8.8</td>\n",
       "      <td>Москва</td>\n",
       "      <td>Пятницкая, 3/4, стр. 1</td>\n",
       "      <td>м. Новокузнецкая, Третьяковская</td>\n",
       "    </tr>\n",
       "    <tr>\n",
       "      <th>3</th>\n",
       "      <td>Dr. Живаго</td>\n",
       "      <td>Русская кухня</td>\n",
       "      <td>8.6</td>\n",
       "      <td>Москва</td>\n",
       "      <td>Моховая, 15, гостиница «Националь», 1 этаж</td>\n",
       "      <td>м. Охотный Ряд, Театральная, Площадь Революции</td>\n",
       "    </tr>\n",
       "    <tr>\n",
       "      <th>4</th>\n",
       "      <td>Северяне</td>\n",
       "      <td></td>\n",
       "      <td>8.5</td>\n",
       "      <td>Москва</td>\n",
       "      <td>Б.Никитская, 12</td>\n",
       "      <td>м. Арбатская</td>\n",
       "    </tr>\n",
       "    <tr>\n",
       "      <th>...</th>\n",
       "      <td>...</td>\n",
       "      <td>...</td>\n",
       "      <td>...</td>\n",
       "      <td>...</td>\n",
       "      <td>...</td>\n",
       "      <td>...</td>\n",
       "    </tr>\n",
       "    <tr>\n",
       "      <th>18253</th>\n",
       "      <td>Встреча</td>\n",
       "      <td>Азербайджанская кухня</td>\n",
       "      <td></td>\n",
       "      <td>Москва</td>\n",
       "      <td>Чугунные Ворота, 13/38, стр. 1</td>\n",
       "      <td></td>\n",
       "    </tr>\n",
       "    <tr>\n",
       "      <th>18305</th>\n",
       "      <td>Жи есть</td>\n",
       "      <td>Дагестанская кухня</td>\n",
       "      <td></td>\n",
       "      <td>Москва</td>\n",
       "      <td>Орджоникидзе, 11, стр. 17</td>\n",
       "      <td>м. Ленинский проспект, Площадь Гагарина</td>\n",
       "    </tr>\n",
       "    <tr>\n",
       "      <th>18383</th>\n",
       "      <td>Огни Баку</td>\n",
       "      <td>Азербайджанская кухня</td>\n",
       "      <td></td>\n",
       "      <td>Москва</td>\n",
       "      <td>Измайловский пр., 5, корп. 2</td>\n",
       "      <td>м. Первомайская, Измайловская</td>\n",
       "    </tr>\n",
       "    <tr>\n",
       "      <th>18432</th>\n",
       "      <td>Страна 43|41</td>\n",
       "      <td>Абхазская кухня</td>\n",
       "      <td></td>\n",
       "      <td>Москва</td>\n",
       "      <td>Бережковская наб., 12</td>\n",
       "      <td>м. Киевская</td>\n",
       "    </tr>\n",
       "    <tr>\n",
       "      <th>18540</th>\n",
       "      <td>Чайхана</td>\n",
       "      <td>Кафе</td>\n",
       "      <td></td>\n",
       "      <td>Москва</td>\n",
       "      <td>Щепкина, 25/20</td>\n",
       "      <td>м. Проспект Мира</td>\n",
       "    </tr>\n",
       "  </tbody>\n",
       "</table>\n",
       "<p>11398 rows × 6 columns</p>\n",
       "</div>"
      ],
      "text/plain": [
       "                   Place                   Type Rating    City  \\\n",
       "0               Рыба моя       Рыбные рестораны    9.4  Москва   \n",
       "1      Китайская грамота        Китайская кухня    8.9  Москва   \n",
       "2                  Björn    Скандинавская кухня    8.8  Москва   \n",
       "3             Dr. Живаго          Русская кухня    8.6  Москва   \n",
       "4               Северяне                           8.5  Москва   \n",
       "...                  ...                    ...    ...     ...   \n",
       "18253            Встреча  Азербайджанская кухня         Москва   \n",
       "18305            Жи есть     Дагестанская кухня         Москва   \n",
       "18383          Огни Баку  Азербайджанская кухня         Москва   \n",
       "18432       Страна 43|41        Абхазская кухня         Москва   \n",
       "18540            Чайхана                   Кафе         Москва   \n",
       "\n",
       "                                          Address  \\\n",
       "0                                  Цветной б-р, 2   \n",
       "1                                     Сретенка, 1   \n",
       "2                          Пятницкая, 3/4, стр. 1   \n",
       "3      Моховая, 15, гостиница «Националь», 1 этаж   \n",
       "4                                 Б.Никитская, 12   \n",
       "...                                           ...   \n",
       "18253              Чугунные Ворота, 13/38, стр. 1   \n",
       "18305                   Орджоникидзе, 11, стр. 17   \n",
       "18383                Измайловский пр., 5, корп. 2   \n",
       "18432                       Бережковская наб., 12   \n",
       "18540                              Щепкина, 25/20   \n",
       "\n",
       "                                                   Metro  \n",
       "0                            м. Цветной бульвар, Трубная  \n",
       "1      м. Чистые пруды, Тургеневская, Сретенский бульвар  \n",
       "2                        м. Новокузнецкая, Третьяковская  \n",
       "3         м. Охотный Ряд, Театральная, Площадь Революции  \n",
       "4                                           м. Арбатская  \n",
       "...                                                  ...  \n",
       "18253                                                     \n",
       "18305            м. Ленинский проспект, Площадь Гагарина  \n",
       "18383                      м. Первомайская, Измайловская  \n",
       "18432                                        м. Киевская  \n",
       "18540                                   м. Проспект Мира  \n",
       "\n",
       "[11398 rows x 6 columns]"
      ]
     },
     "execution_count": 16,
     "metadata": {},
     "output_type": "execute_result"
    }
   ],
   "source": [
    "df_no_dupl"
   ]
  },
  {
   "cell_type": "code",
   "execution_count": 17,
   "id": "8e3414f0",
   "metadata": {},
   "outputs": [],
   "source": [
    "df_no_dupl.to_csv(r'C:\\Users\\agaleeva\\Downloads\\afisha.csv')"
   ]
  },
  {
   "cell_type": "code",
   "execution_count": 18,
   "id": "bc985c44",
   "metadata": {},
   "outputs": [],
   "source": [
    "df_no_dupl.to_excel(r'C:\\Users\\agaleeva\\Downloads\\afisha.xlsx')"
   ]
  },
  {
   "cell_type": "code",
   "execution_count": null,
   "id": "30f8d461",
   "metadata": {},
   "outputs": [],
   "source": []
  },
  {
   "cell_type": "markdown",
   "id": "6de3f755",
   "metadata": {},
   "source": [
    "#### Draft"
   ]
  },
  {
   "cell_type": "code",
   "execution_count": 17,
   "id": "cb7a30e2",
   "metadata": {},
   "outputs": [
    {
     "name": "stderr",
     "output_type": "stream",
     "text": [
      "100%|██████████████████████████████████████████████████████████████████████████████████| 98/98 [07:11<00:00,  4.40s/it]\n"
     ]
    }
   ],
   "source": [
    "for i in tqdm(range(98)):\n",
    "    wd.find_element_by_class_name('j-show-more-button').click()\n",
    "    time.sleep(3)"
   ]
  },
  {
   "cell_type": "code",
   "execution_count": 18,
   "id": "83a4edc0",
   "metadata": {},
   "outputs": [],
   "source": [
    "html = wd.page_source\n",
    "soup = BeautifulSoup(html, 'lxml')"
   ]
  },
  {
   "cell_type": "code",
   "execution_count": 33,
   "id": "b8ad790d",
   "metadata": {},
   "outputs": [],
   "source": [
    "names = soup.find_all('div',  {'class': 'places_cards'})\n",
    "restaurants = []\n",
    "for name in names:\n",
    "    try:\n",
    "        new_rest = []\n",
    "        place = name.find('span', {'class': 'places_name'})\n",
    "        types = name.find('div', {'class': 'places_title'})\n",
    "        rating = name.find('div', {'class': 'rating_number'})\n",
    "        city = name.find('span', {'class': 'places_contact'})\n",
    "        address = name.find('span', {'class': 'places_address'})\n",
    "        metro = name.find('span', {'class': 'places_metro'})\n",
    "        new_rest = [place.get_text().strip(), types.get_text().strip(), rating.get_text().strip(), \\\n",
    "                    city.get_text().strip(), address.get_text().strip(), metro.get_text().strip()]\n",
    "        restaurants.append(new_rest)\n",
    "    except:\n",
    "        continue"
   ]
  },
  {
   "cell_type": "code",
   "execution_count": 34,
   "id": "17a00584",
   "metadata": {},
   "outputs": [
    {
     "data": {
      "text/plain": [
       "2368"
      ]
     },
     "execution_count": 34,
     "metadata": {},
     "output_type": "execute_result"
    }
   ],
   "source": [
    "len(names)"
   ]
  },
  {
   "cell_type": "code",
   "execution_count": 35,
   "id": "2c75de37",
   "metadata": {},
   "outputs": [
    {
     "data": {
      "text/plain": [
       "2368"
      ]
     },
     "execution_count": 35,
     "metadata": {},
     "output_type": "execute_result"
    }
   ],
   "source": [
    "len(restaurants)  # есть ошибки"
   ]
  },
  {
   "cell_type": "code",
   "execution_count": 36,
   "id": "44facca2",
   "metadata": {},
   "outputs": [
    {
     "data": {
      "text/html": [
       "<div>\n",
       "<style scoped>\n",
       "    .dataframe tbody tr th:only-of-type {\n",
       "        vertical-align: middle;\n",
       "    }\n",
       "\n",
       "    .dataframe tbody tr th {\n",
       "        vertical-align: top;\n",
       "    }\n",
       "\n",
       "    .dataframe thead th {\n",
       "        text-align: right;\n",
       "    }\n",
       "</style>\n",
       "<table border=\"1\" class=\"dataframe\">\n",
       "  <thead>\n",
       "    <tr style=\"text-align: right;\">\n",
       "      <th></th>\n",
       "      <th>Place</th>\n",
       "      <th>Type</th>\n",
       "      <th>Rating</th>\n",
       "      <th>City</th>\n",
       "      <th>Address</th>\n",
       "      <th>Metro</th>\n",
       "    </tr>\n",
       "  </thead>\n",
       "  <tbody>\n",
       "    <tr>\n",
       "      <th>0</th>\n",
       "      <td>I Like Wine</td>\n",
       "      <td>I Like Wine\\n                    \\n\\n (\\n\\nВин...</td>\n",
       "      <td>9.0</td>\n",
       "      <td>Москва</td>\n",
       "      <td>Покровка, 16</td>\n",
       "      <td>м. Чистые пруды, Тургеневская, Китай-город, Ср...</td>\n",
       "    </tr>\n",
       "    <tr>\n",
       "      <th>1</th>\n",
       "      <td>I Like Wine 2.0</td>\n",
       "      <td>I Like Wine 2.0\\n                    \\n\\n (\\n\\...</td>\n",
       "      <td>8.9</td>\n",
       "      <td>Москва</td>\n",
       "      <td>Тимура Фрунзе, 11, стр. 19</td>\n",
       "      <td>м. Парк культуры</td>\n",
       "    </tr>\n",
       "    <tr>\n",
       "      <th>2</th>\n",
       "      <td>Чайковский</td>\n",
       "      <td>Чайковский\\n                    \\n\\n (\\n\\nКафе...</td>\n",
       "      <td>8.5</td>\n",
       "      <td>Москва</td>\n",
       "      <td>Триумфальная пл., 4/31, в здании Концертного з...</td>\n",
       "      <td>м. Маяковская</td>\n",
       "    </tr>\n",
       "    <tr>\n",
       "      <th>3</th>\n",
       "      <td>Донна Маргарита</td>\n",
       "      <td>Донна Маргарита\\n                    \\n\\n (\\n\\...</td>\n",
       "      <td>8.3</td>\n",
       "      <td>Москва</td>\n",
       "      <td>ул. 1905 года, 2, стр. 1</td>\n",
       "      <td>м. Улица 1905 года</td>\n",
       "    </tr>\n",
       "    <tr>\n",
       "      <th>4</th>\n",
       "      <td>Чайка</td>\n",
       "      <td>Чайка\\n                    \\n\\n (\\n\\nРестораны...</td>\n",
       "      <td>8.1</td>\n",
       "      <td>Москва</td>\n",
       "      <td>Краснопресненская наб., напротив дома 12</td>\n",
       "      <td>м. Выставочная</td>\n",
       "    </tr>\n",
       "    <tr>\n",
       "      <th>...</th>\n",
       "      <td>...</td>\n",
       "      <td>...</td>\n",
       "      <td>...</td>\n",
       "      <td>...</td>\n",
       "      <td>...</td>\n",
       "      <td>...</td>\n",
       "    </tr>\n",
       "    <tr>\n",
       "      <th>2363</th>\n",
       "      <td>Эль'Эстэ</td>\n",
       "      <td>Эль'Эстэ\\n                    \\n\\n (\\n\\nКафе\\n\\n)</td>\n",
       "      <td></td>\n",
       "      <td>Домодедово</td>\n",
       "      <td>Лунная, 9, корп. 1</td>\n",
       "      <td></td>\n",
       "    </tr>\n",
       "    <tr>\n",
       "      <th>2364</th>\n",
       "      <td>Этажерка</td>\n",
       "      <td>Этажерка\\n                    \\n\\n (\\n\\nИталья...</td>\n",
       "      <td></td>\n",
       "      <td>Балашиха</td>\n",
       "      <td>просп. Жуковского, 4, стр. 1</td>\n",
       "      <td></td>\n",
       "    </tr>\n",
       "    <tr>\n",
       "      <th>2365</th>\n",
       "      <td>Ян-пицца</td>\n",
       "      <td>Ян-пицца\\n                    \\n\\n (\\n\\nКафе\\n\\n)</td>\n",
       "      <td></td>\n",
       "      <td>Химки</td>\n",
       "      <td>Совхозная, 8а</td>\n",
       "      <td></td>\n",
       "    </tr>\n",
       "    <tr>\n",
       "      <th>2366</th>\n",
       "      <td>Ян-пицца</td>\n",
       "      <td>Ян-пицца\\n                    \\n\\n (\\n\\nКафе\\n\\n)</td>\n",
       "      <td></td>\n",
       "      <td>Балашиха</td>\n",
       "      <td>микрорайон Янтарный, Кольцевая, 14</td>\n",
       "      <td></td>\n",
       "    </tr>\n",
       "    <tr>\n",
       "      <th>2367</th>\n",
       "      <td>Ян-пицца</td>\n",
       "      <td>Ян-пицца\\n                    \\n\\n (\\n\\nКафе\\n\\n)</td>\n",
       "      <td></td>\n",
       "      <td>Одинцово</td>\n",
       "      <td>Кутузовская, 23</td>\n",
       "      <td></td>\n",
       "    </tr>\n",
       "  </tbody>\n",
       "</table>\n",
       "<p>2368 rows × 6 columns</p>\n",
       "</div>"
      ],
      "text/plain": [
       "                Place                                               Type  \\\n",
       "0         I Like Wine  I Like Wine\\n                    \\n\\n (\\n\\nВин...   \n",
       "1     I Like Wine 2.0  I Like Wine 2.0\\n                    \\n\\n (\\n\\...   \n",
       "2          Чайковский  Чайковский\\n                    \\n\\n (\\n\\nКафе...   \n",
       "3     Донна Маргарита  Донна Маргарита\\n                    \\n\\n (\\n\\...   \n",
       "4               Чайка  Чайка\\n                    \\n\\n (\\n\\nРестораны...   \n",
       "...               ...                                                ...   \n",
       "2363         Эль'Эстэ  Эль'Эстэ\\n                    \\n\\n (\\n\\nКафе\\n\\n)   \n",
       "2364         Этажерка  Этажерка\\n                    \\n\\n (\\n\\nИталья...   \n",
       "2365         Ян-пицца  Ян-пицца\\n                    \\n\\n (\\n\\nКафе\\n\\n)   \n",
       "2366         Ян-пицца  Ян-пицца\\n                    \\n\\n (\\n\\nКафе\\n\\n)   \n",
       "2367         Ян-пицца  Ян-пицца\\n                    \\n\\n (\\n\\nКафе\\n\\n)   \n",
       "\n",
       "     Rating        City                                            Address  \\\n",
       "0       9.0      Москва                                       Покровка, 16   \n",
       "1       8.9      Москва                         Тимура Фрунзе, 11, стр. 19   \n",
       "2       8.5      Москва  Триумфальная пл., 4/31, в здании Концертного з...   \n",
       "3       8.3      Москва                           ул. 1905 года, 2, стр. 1   \n",
       "4       8.1      Москва           Краснопресненская наб., напротив дома 12   \n",
       "...     ...         ...                                                ...   \n",
       "2363         Домодедово                                 Лунная, 9, корп. 1   \n",
       "2364           Балашиха                       просп. Жуковского, 4, стр. 1   \n",
       "2365              Химки                                      Совхозная, 8а   \n",
       "2366           Балашиха                 микрорайон Янтарный, Кольцевая, 14   \n",
       "2367           Одинцово                                    Кутузовская, 23   \n",
       "\n",
       "                                                  Metro  \n",
       "0     м. Чистые пруды, Тургеневская, Китай-город, Ср...  \n",
       "1                                      м. Парк культуры  \n",
       "2                                         м. Маяковская  \n",
       "3                                    м. Улица 1905 года  \n",
       "4                                        м. Выставочная  \n",
       "...                                                 ...  \n",
       "2363                                                     \n",
       "2364                                                     \n",
       "2365                                                     \n",
       "2366                                                     \n",
       "2367                                                     \n",
       "\n",
       "[2368 rows x 6 columns]"
      ]
     },
     "execution_count": 36,
     "metadata": {},
     "output_type": "execute_result"
    }
   ],
   "source": [
    "df = pd.DataFrame(restaurants, columns = ['Place', 'Type', 'Rating', 'City', 'Address', 'Metro'])\n",
    "df"
   ]
  },
  {
   "cell_type": "code",
   "execution_count": 23,
   "id": "bf3ff3f3",
   "metadata": {},
   "outputs": [
    {
     "data": {
      "text/html": [
       "<div>\n",
       "<style scoped>\n",
       "    .dataframe tbody tr th:only-of-type {\n",
       "        vertical-align: middle;\n",
       "    }\n",
       "\n",
       "    .dataframe tbody tr th {\n",
       "        vertical-align: top;\n",
       "    }\n",
       "\n",
       "    .dataframe thead th {\n",
       "        text-align: right;\n",
       "    }\n",
       "</style>\n",
       "<table border=\"1\" class=\"dataframe\">\n",
       "  <thead>\n",
       "    <tr style=\"text-align: right;\">\n",
       "      <th></th>\n",
       "      <th>Place</th>\n",
       "      <th>Type</th>\n",
       "      <th>Rating</th>\n",
       "      <th>City</th>\n",
       "      <th>Address</th>\n",
       "      <th>Metro</th>\n",
       "    </tr>\n",
       "  </thead>\n",
       "  <tbody>\n",
       "    <tr>\n",
       "      <th>0</th>\n",
       "      <td>I Like Wine</td>\n",
       "      <td>I Like Wine\\n                    \\n\\n (\\n\\nВин...</td>\n",
       "      <td>9.0</td>\n",
       "      <td>Москва</td>\n",
       "      <td>Покровка, 16</td>\n",
       "      <td>м. Чистые пруды, Тургеневская, Китай-город, Ср...</td>\n",
       "    </tr>\n",
       "    <tr>\n",
       "      <th>1</th>\n",
       "      <td>I Like Wine 2.0</td>\n",
       "      <td>I Like Wine 2.0\\n                    \\n\\n (\\n\\...</td>\n",
       "      <td>8.9</td>\n",
       "      <td>Москва</td>\n",
       "      <td>Тимура Фрунзе, 11, стр. 19</td>\n",
       "      <td>м. Парк культуры</td>\n",
       "    </tr>\n",
       "    <tr>\n",
       "      <th>2</th>\n",
       "      <td>Чайковский</td>\n",
       "      <td>Чайковский\\n                    \\n\\n (\\n\\nКафе...</td>\n",
       "      <td>8.5</td>\n",
       "      <td>Москва</td>\n",
       "      <td>Триумфальная пл., 4/31, в здании Концертного з...</td>\n",
       "      <td>м. Маяковская</td>\n",
       "    </tr>\n",
       "    <tr>\n",
       "      <th>3</th>\n",
       "      <td>Донна Маргарита</td>\n",
       "      <td>Донна Маргарита\\n                    \\n\\n (\\n\\...</td>\n",
       "      <td>8.3</td>\n",
       "      <td>Москва</td>\n",
       "      <td>ул. 1905 года, 2, стр. 1</td>\n",
       "      <td>м. Улица 1905 года</td>\n",
       "    </tr>\n",
       "    <tr>\n",
       "      <th>4</th>\n",
       "      <td>Чайка</td>\n",
       "      <td>Чайка\\n                    \\n\\n (\\n\\nРестораны...</td>\n",
       "      <td>8.1</td>\n",
       "      <td>Москва</td>\n",
       "      <td>Краснопресненская наб., напротив дома 12</td>\n",
       "      <td>м. Выставочная</td>\n",
       "    </tr>\n",
       "    <tr>\n",
       "      <th>...</th>\n",
       "      <td>...</td>\n",
       "      <td>...</td>\n",
       "      <td>...</td>\n",
       "      <td>...</td>\n",
       "      <td>...</td>\n",
       "      <td>...</td>\n",
       "    </tr>\n",
       "    <tr>\n",
       "      <th>226</th>\n",
       "      <td>То да сё</td>\n",
       "      <td>То да сё\\n                    \\n\\n (\\n\\nЯпонск...</td>\n",
       "      <td>1.9</td>\n",
       "      <td>Москва</td>\n",
       "      <td>Пушкинская пл., 3</td>\n",
       "      <td>м. Тверская, Пушкинская, Чеховская</td>\n",
       "    </tr>\n",
       "    <tr>\n",
       "      <th>1769</th>\n",
       "      <td>Osteria di campagna</td>\n",
       "      <td>Osteria di campagna\\n                    \\n\\n ...</td>\n",
       "      <td>7.5</td>\n",
       "      <td>Жуковка</td>\n",
       "      <td>9-й км Рублево-Успенского ш., дер. Жуковка, 74...</td>\n",
       "      <td></td>\n",
       "    </tr>\n",
       "    <tr>\n",
       "      <th>1770</th>\n",
       "      <td>Chalet River Club</td>\n",
       "      <td>Chalet River Club\\n                    \\n\\n (\\...</td>\n",
       "      <td>7.0</td>\n",
       "      <td>Химки</td>\n",
       "      <td>Панфилова, 19, корп. 3</td>\n",
       "      <td></td>\n",
       "    </tr>\n",
       "    <tr>\n",
       "      <th>1771</th>\n",
       "      <td>Веранда у дачи</td>\n",
       "      <td>Веранда у дачи\\n                    \\n\\n (\\n\\n...</td>\n",
       "      <td>6.5</td>\n",
       "      <td>Жуковка</td>\n",
       "      <td>Одинцовский р-н, дер. Жуковка, 70</td>\n",
       "      <td></td>\n",
       "    </tr>\n",
       "    <tr>\n",
       "      <th>1772</th>\n",
       "      <td>Miraclub</td>\n",
       "      <td>Miraclub\\n                    \\n\\n (\\n\\nРестор...</td>\n",
       "      <td>6.0</td>\n",
       "      <td>Мытищи</td>\n",
       "      <td>Мира, 2б</td>\n",
       "      <td></td>\n",
       "    </tr>\n",
       "  </tbody>\n",
       "</table>\n",
       "<p>183 rows × 6 columns</p>\n",
       "</div>"
      ],
      "text/plain": [
       "                    Place                                               Type  \\\n",
       "0             I Like Wine  I Like Wine\\n                    \\n\\n (\\n\\nВин...   \n",
       "1         I Like Wine 2.0  I Like Wine 2.0\\n                    \\n\\n (\\n\\...   \n",
       "2              Чайковский  Чайковский\\n                    \\n\\n (\\n\\nКафе...   \n",
       "3         Донна Маргарита  Донна Маргарита\\n                    \\n\\n (\\n\\...   \n",
       "4                   Чайка  Чайка\\n                    \\n\\n (\\n\\nРестораны...   \n",
       "...                   ...                                                ...   \n",
       "226              То да сё  То да сё\\n                    \\n\\n (\\n\\nЯпонск...   \n",
       "1769  Osteria di campagna  Osteria di campagna\\n                    \\n\\n ...   \n",
       "1770    Chalet River Club  Chalet River Club\\n                    \\n\\n (\\...   \n",
       "1771       Веранда у дачи  Веранда у дачи\\n                    \\n\\n (\\n\\n...   \n",
       "1772             Miraclub  Miraclub\\n                    \\n\\n (\\n\\nРестор...   \n",
       "\n",
       "     Rating     City                                            Address  \\\n",
       "0       9.0   Москва                                       Покровка, 16   \n",
       "1       8.9   Москва                         Тимура Фрунзе, 11, стр. 19   \n",
       "2       8.5   Москва  Триумфальная пл., 4/31, в здании Концертного з...   \n",
       "3       8.3   Москва                           ул. 1905 года, 2, стр. 1   \n",
       "4       8.1   Москва           Краснопресненская наб., напротив дома 12   \n",
       "...     ...      ...                                                ...   \n",
       "226     1.9   Москва                                  Пушкинская пл., 3   \n",
       "1769    7.5  Жуковка  9-й км Рублево-Успенского ш., дер. Жуковка, 74...   \n",
       "1770    7.0    Химки                             Панфилова, 19, корп. 3   \n",
       "1771    6.5  Жуковка                  Одинцовский р-н, дер. Жуковка, 70   \n",
       "1772    6.0   Мытищи                                           Мира, 2б   \n",
       "\n",
       "                                                  Metro  \n",
       "0     м. Чистые пруды, Тургеневская, Китай-город, Ср...  \n",
       "1                                      м. Парк культуры  \n",
       "2                                         м. Маяковская  \n",
       "3                                    м. Улица 1905 года  \n",
       "4                                        м. Выставочная  \n",
       "...                                                 ...  \n",
       "226                  м. Тверская, Пушкинская, Чеховская  \n",
       "1769                                                     \n",
       "1770                                                     \n",
       "1771                                                     \n",
       "1772                                                     \n",
       "\n",
       "[183 rows x 6 columns]"
      ]
     },
     "execution_count": 23,
     "metadata": {},
     "output_type": "execute_result"
    }
   ],
   "source": [
    "df[df['Rating']>'0']"
   ]
  },
  {
   "cell_type": "markdown",
   "id": "daa66d74",
   "metadata": {},
   "source": [
    "#### How to delete \\n"
   ]
  },
  {
   "cell_type": "code",
   "execution_count": null,
   "id": "b52f4390",
   "metadata": {},
   "outputs": [],
   "source": [
    "### type - оставить только слово в скобках\n",
    "### регулярные выражения"
   ]
  },
  {
   "cell_type": "code",
   "execution_count": 37,
   "id": "20bf0a60",
   "metadata": {},
   "outputs": [
    {
     "data": {
      "text/plain": [
       "'Ян-пицца  (Кафе)'"
      ]
     },
     "execution_count": 37,
     "metadata": {},
     "output_type": "execute_result"
    }
   ],
   "source": [
    "a = 'Ян-пицца\\n \\n\\n (\\n\\nКафе\\n\\n)'\n",
    "b = a.replace('\\n', '')\n",
    "b"
   ]
  },
  {
   "cell_type": "code",
   "execution_count": null,
   "id": "981593d6",
   "metadata": {},
   "outputs": [],
   "source": []
  },
  {
   "cell_type": "code",
   "execution_count": 194,
   "id": "a417e6aa",
   "metadata": {},
   "outputs": [],
   "source": [
    "wd.close()"
   ]
  },
  {
   "cell_type": "code",
   "execution_count": null,
   "id": "586f6249",
   "metadata": {},
   "outputs": [],
   "source": []
  }
 ],
 "metadata": {
  "kernelspec": {
   "display_name": "Python 3",
   "language": "python",
   "name": "python3"
  },
  "language_info": {
   "codemirror_mode": {
    "name": "ipython",
    "version": 3
   },
   "file_extension": ".py",
   "mimetype": "text/x-python",
   "name": "python",
   "nbconvert_exporter": "python",
   "pygments_lexer": "ipython3",
   "version": "3.8.8"
  }
 },
 "nbformat": 4,
 "nbformat_minor": 5
}
